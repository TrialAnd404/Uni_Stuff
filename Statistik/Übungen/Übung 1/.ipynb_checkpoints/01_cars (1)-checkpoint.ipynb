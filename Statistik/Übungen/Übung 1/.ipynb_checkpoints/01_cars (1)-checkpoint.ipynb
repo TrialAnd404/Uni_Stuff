{
 "cells": [
  {
   "attachments": {
    "hsrmlogo.png": {
     "image/png": "[encoded data removed]"
    }
   },
   "cell_type": "markdown",
   "metadata": {},
   "source": [
    " # Data Science: Autos auf E-Bay <img src=\"attachment:hsrmlogo.png\" width=\"10%\" align=\"right\">\n",
    "Dieses Notebook stellt einen Datensatz von Gebrauchtwagen auf E-Bay vor, den wir als Beispiel in der Vorlesung verwenden werden. Unser Endziel wird es sein, den Verkaufspreis eines Autos (gegeben Merkmale wie sein Alter, seine Marke, etc.) vorherzusagen.\n",
    "\n",
    "Hierzu analysieren wir in diesem Notebook zunächst den Datensatz. Laden Sie die Datei 'cars.csv' aus Stud.IP herunter, plazieren Sie sie im gleichen Ordner wie das Notebook, und führen Sie die folgende Zelle aus. Es sollten Zeilen mit Merkmalen (0-56) ausgegeben werden.\n",
    "\n"
   ]
  },
  {
   "cell_type": "code",
   "execution_count": 2,
   "metadata": {},
   "outputs": [
    {
     "name": "stdout",
     "output_type": "stream",
     "text": [
      "00 : dollar_price\n",
      "01 : registration_year\n",
      "02 : power_ps\n",
      "03 : kilometer\n",
      "04 : postal_code\n",
      "05 : type__bus\n",
      "06 : type__cabrio\n",
      "07 : type__coupe\n",
      "08 : type__kleinwagen\n",
      "09 : type__kombi\n",
      "10 : type__limousine\n",
      "11 : type__suv\n",
      "12 : gearbox__automatik\n",
      "13 : gearbox__manuell\n",
      "14 : fuel__benzin\n",
      "15 : fuel__diesel\n",
      "16 : brand__alfa_romeo\n",
      "17 : brand__audi\n",
      "18 : brand__bmw\n",
      "19 : brand__chevrolet\n",
      "20 : brand__chrysler\n",
      "21 : brand__citroen\n",
      "22 : brand__dacia\n",
      "23 : brand__daewoo\n",
      "24 : brand__daihatsu\n",
      "25 : brand__fiat\n",
      "26 : brand__ford\n",
      "27 : brand__honda\n",
      "28 : brand__hyundai\n",
      "29 : brand__jaguar\n",
      "30 : brand__jeep\n",
      "31 : brand__kia\n",
      "32 : brand__lada\n",
      "33 : brand__lancia\n",
      "34 : brand__land_rover\n",
      "35 : brand__mazda\n",
      "36 : brand__mercedes_benz\n",
      "37 : brand__mini\n",
      "38 : brand__mitsubishi\n",
      "39 : brand__nissan\n",
      "40 : brand__opel\n",
      "41 : brand__peugeot\n",
      "42 : brand__porsche\n",
      "43 : brand__renault\n",
      "44 : brand__rover\n",
      "45 : brand__saab\n",
      "46 : brand__seat\n",
      "47 : brand__skoda\n",
      "48 : brand__smart\n",
      "49 : brand__subaru\n",
      "50 : brand__suzuki\n",
      "51 : brand__toyota\n",
      "52 : brand__trabant\n",
      "53 : brand__volkswagen\n",
      "54 : brand__volvo\n",
      "55 : damage__ja\n",
      "56 : damage__nein\n"
     ]
    }
   ],
   "source": [
    "import pandas\n",
    "\n",
    "# Anmerkung: Man kann die Datei auch in Excel/Libreoffice öffnen.\n",
    "cars = pandas.read_csv('cars.csv')\n",
    "\n",
    "# Wir geben die Namen der Spalten/Merkmale aus.\n",
    "columns = cars.columns\n",
    "for i,col in enumerate(columns):\n",
    "    print('%.2d : %s' %(i,col))\n",
    "    \n",
    "# Wir konvertieren die Daten in ein Numpy-Array.\n",
    "data = cars.values.astype('float')"
   ]
  },
  {
   "cell_type": "markdown",
   "metadata": {},
   "source": [
    "In 'data' befindet sich nun eine Datenmatrix. Jede Zeile entspricht einem Auto, jede Spalte einem Merkmal. Berechnen Sie den Durchschnittspreis aller Autos und den Median des Preises. Welcher der beiden Werte ist erwartungsgemäß höher?"
   ]
  },
  {
   "cell_type": "code",
   "execution_count": 3,
   "metadata": {},
   "outputs": [
    {
     "name": "stdout",
     "output_type": "stream",
     "text": [
      "7360.116331909479\n",
      "3999.0\n"
     ]
    }
   ],
   "source": [
    "print(cars['dollar_price'].sum()/len(cars.index))\n",
    "\n",
    "print(cars['dollar_price'].median())"
   ]
  },
  {
   "cell_type": "markdown",
   "metadata": {},
   "source": [
    "Die folgende Zelle plottet ein Histogramm aller 'prices'. Führen Sie die Zelle aus. Speichern Sie zu Beginn in 'prices' sämtliche Preise.\n",
    "\n",
    "Es sollte ein Histogramm-Plot erscheinen, der allerdings nur aus einem Balken besteht. Was ist das Problem?"
   ]
  },
  {
   "cell_type": "code",
   "execution_count": 4,
   "metadata": {},
   "outputs": [
    {
     "data": {
      "image/png": "[encoded data removed]",
      "text/plain": [
       "<Figure size 432x288 with 1 Axes>"
      ]
     },
     "metadata": {
      "needs_background": "light"
     },
     "output_type": "display_data"
    }
   ],
   "source": [
    "prices = cars.dollar_price\n",
    "\n",
    "# display histogram of prices\n",
    "import matplotlib.pyplot as plt\n",
    "plt.hist(prices)\n",
    "plt.show()"
   ]
  },
  {
   "cell_type": "markdown",
   "metadata": {},
   "source": [
    "Die Methode hist() besitzt einen Parameter 'bins'. Hier kann man eine Liste von Grenzen zwischen den einzelnen Partitionen/bins des Histograms angeben. Versuchen Sie sinnvolle Bins zu übergeben, so dass das Histogramm aussagekräftiger wird."
   ]
  },
  {
   "cell_type": "code",
   "execution_count": 5,
   "metadata": {},
   "outputs": [
    {
     "data": {
      "image/png": "[encoded data removed]",
      "text/plain": [
       "<Figure size 432x288 with 1 Axes>"
      ]
     },
     "metadata": {
      "needs_background": "light"
     },
     "output_type": "display_data"
    }
   ],
   "source": [
    "bins = [0,5000,10000,15000,20000,50000]\n",
    "\n",
    "plt.hist(prices, bins)\n",
    "plt.show()"
   ]
  },
  {
   "cell_type": "markdown",
   "metadata": {},
   "source": [
    "'data' enthält einige 'brand'-Spalten ('brand_audi', 'brand_bmw', ...) die angeben ob das jeweilige Auto zu einer bestimmten Marke gehört. Entfernen Sie diese Spalten aus dem Datensatz."
   ]
  },
  {
   "cell_type": "code",
   "execution_count": 6,
   "metadata": {
    "scrolled": true
   },
   "outputs": [
    {
     "name": "stdout",
     "output_type": "stream",
     "text": [
      "       dollar_price  registration_year  power_ps  kilometer  postal_code  \\\n",
      "0             18300               2011       190     125000        66954   \n",
      "1              1500               2001        75     150000        91074   \n",
      "2              3600               2008        69      90000        60437   \n",
      "3               650               1995       102     150000        33775   \n",
      "4              2200               2004       109     150000        67112   \n",
      "...             ...                ...       ...        ...          ...   \n",
      "33004          1400               1999       126       5000        49577   \n",
      "33005          4000               2006       109     125000        25436   \n",
      "33006          1850               2003       116     150000        86462   \n",
      "33007          2300               2003        95      90000        63768   \n",
      "33008           650               2000        90     150000        83137   \n",
      "\n",
      "       type__bus  type__cabrio  type__coupe  type__kleinwagen  type__kombi  \\\n",
      "0              0             0            1                 0            0   \n",
      "1              0             0            0                 1            0   \n",
      "2              0             0            0                 1            0   \n",
      "3              0             0            0                 0            0   \n",
      "4              0             1            0                 0            0   \n",
      "...          ...           ...          ...               ...          ...   \n",
      "33004          0             0            0                 0            0   \n",
      "33005          0             0            0                 0            1   \n",
      "33006          0             0            0                 0            0   \n",
      "33007          0             1            0                 0            0   \n",
      "33008          0             0            0                 1            0   \n",
      "\n",
      "       type__limousine  type__suv  gearbox__automatik  gearbox__manuell  \\\n",
      "0                    0          0                   0                 1   \n",
      "1                    0          0                   0                 1   \n",
      "2                    0          0                   0                 1   \n",
      "3                    1          0                   0                 1   \n",
      "4                    0          0                   0                 1   \n",
      "...                ...        ...                 ...               ...   \n",
      "33004                1          0                   0                 1   \n",
      "33005                0          0                   1                 0   \n",
      "33006                1          0                   0                 1   \n",
      "33007                0          0                   0                 1   \n",
      "33008                0          0                   0                 1   \n",
      "\n",
      "       fuel__benzin  fuel__diesel  damage__ja  damage__nein  \n",
      "0                 0             1           1             0  \n",
      "1                 1             0           0             1  \n",
      "2                 0             1           0             1  \n",
      "3                 1             0           1             0  \n",
      "4                 1             0           0             1  \n",
      "...             ...           ...         ...           ...  \n",
      "33004             1             0           0             1  \n",
      "33005             1             0           0             1  \n",
      "33006             0             1           0             1  \n",
      "33007             1             0           0             1  \n",
      "33008             1             0           1             0  \n",
      "\n",
      "[33009 rows x 18 columns]\n"
     ]
    }
   ],
   "source": [
    "cols = [c for c in cars.columns if c.lower()[:6] != 'brand_']\n",
    "cars = cars[cols]\n",
    "print(cars)    "
   ]
  },
  {
   "cell_type": "markdown",
   "metadata": {},
   "source": [
    "Geben Sie das günstigste Auto aus. Warum ist es so günstig? Hat es einen Schaden?"
   ]
  },
  {
   "cell_type": "code",
   "execution_count": 7,
   "metadata": {},
   "outputs": [
    {
     "name": "stdout",
     "output_type": "stream",
     "text": [
      "       dollar_price  registration_year  power_ps  kilometer  postal_code  \\\n",
      "14412           110               1996       100     150000        71063   \n",
      "\n",
      "       type__bus  type__cabrio  type__coupe  type__kleinwagen  type__kombi  \\\n",
      "14412          0             0            0                 0            1   \n",
      "\n",
      "       type__limousine  type__suv  gearbox__automatik  gearbox__manuell  \\\n",
      "14412                0          0                   0                 1   \n",
      "\n",
      "       fuel__benzin  fuel__diesel  damage__ja  damage__nein  \n",
      "14412             1             0           0             1  \n"
     ]
    }
   ],
   "source": [
    "print(cars[cars.dollar_price == cars.dollar_price.min()])"
   ]
  },
  {
   "cell_type": "markdown",
   "metadata": {},
   "source": [
    "Führen Sie eine kleine Datenprüfung durch: Stellen Sie sicher, dass jedes Auto entweder beschädigt oder nicht beschädigt ist (d.h., die letzten zwei Spalten des Datensatzes sind korrekt)."
   ]
  },
  {
   "cell_type": "code",
   "execution_count": 8,
   "metadata": {},
   "outputs": [],
   "source": [
    "for index, row in cars.iterrows():\n",
    "    if cars['damage__ja'][index] + cars['damage__nein'][index] != 1:\n",
    "        print('fehler in zeile ' +str(index))\n"
   ]
  },
  {
   "cell_type": "markdown",
   "metadata": {},
   "source": [
    "Um einen Eindruck von der Beziehung zwischen Preis und Kilometerstand zu erhalten, plotten wir eine kleine Punktwolke. In dieser ist der Preis die x-Achse, der Kilometerstand die y-Achse, und jedes Auto ist ein Punkt."
   ]
  },
  {
   "cell_type": "code",
   "execution_count": 9,
   "metadata": {
    "scrolled": true
   },
   "outputs": [
    {
     "data": {
      "image/png": "[encoded data removed]",
      "text/plain": [
       "<Figure size 432x288 with 1 Axes>"
      ]
     },
     "metadata": {
      "needs_background": "light"
     },
     "output_type": "display_data"
    }
   ],
   "source": [
    "prices = cars['dollar_price']\n",
    "km = cars['kilometer']\n",
    "\n",
    "# plot km against price\n",
    "\n",
    "plt.plot(prices, km, 'o', markersize=3)\n",
    "plt.xlim([0,20000])\n",
    "plt.ylim([0,200000])\n",
    "plt.xlabel('price')\n",
    "plt.ylabel('km')\n",
    "plt.show()"
   ]
  },
  {
   "cell_type": "code",
   "execution_count": null,
   "metadata": {},
   "outputs": [],
   "source": []
  }
 ],
 "metadata": {
  "kernelspec": {
   "display_name": "Python 3",
   "language": "python",
   "name": "python3"
  },
  "language_info": {
   "codemirror_mode": {
    "name": "ipython",
    "version": 3
   },
   "file_extension": ".py",
   "mimetype": "text/x-python",
   "name": "python",
   "nbconvert_exporter": "python",
   "pygments_lexer": "ipython3",
   "version": "3.8.3"
  }
 },
 "nbformat": 4,
 "nbformat_minor": 2
}
