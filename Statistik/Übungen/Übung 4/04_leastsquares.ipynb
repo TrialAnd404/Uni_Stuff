{
 "cells": [
  {
   "attachments": {
    "hsrmlogo.png": {
     "image/png": "[encoded data removed]"
    }
   },
   "cell_type": "markdown",
   "metadata": {},
   "source": [
    " # Least Squares <img src=\"attachment:hsrmlogo.png\" width=\"10%\" align=\"right\">\n",
    "In diesem Notebook werden wir lineare Regression (least squares) implementieren und auf die Auto-Daten anwenden, um Gebrauchtwagenpreise auf EBay vorherzusagen."
   ]
  },
  {
   "cell_type": "markdown",
   "metadata": {},
   "source": [
    "## 1. Implementierung\n",
    "\n",
    "Implementieren Sie eine Methode *leastsquares()*, die gemäß der Formel aus der Vorlesung die Parameter $(a,b)$ einer Ausgleichsgerade ermittelt und zurückliefert.\n",
    "Ihre Methode erhält mit x und y zwei Numpy-Arrays der Länge $n$ mit den x- und y-Koordinaten der gegebenen Stichprobe.\n",
    "\n",
    "*Hinweis: Sie benötigen Kennwerte wie Mittelwert oder Varianz. Verwenden Sie hierzu numpy-Methoden wie mean() und var().*\n"
   ]
  },
  {
   "cell_type": "code",
   "execution_count": 93,
   "metadata": {},
   "outputs": [],
   "source": [
    "import numpy as np\n",
    "\n",
    "def leastsquares(x,y):\n",
    "    varX = np.var(x)\n",
    "    varY = np.var(y)\n",
    "    mX = np.mean(x)\n",
    "    mY = np.mean(y)\n",
    "    covXY = 0\n",
    "    \n",
    "    for index in range(len(x)):\n",
    "        covXY = covXY + (x[index]-mX)*(y[index]-mY)\n",
    "    \n",
    "    covXY = covXY/(len(x)-1)\n",
    "    \n",
    "    a = covXY/varX\n",
    "    b = mY - a*mX\n",
    "    return a,b\n"
   ]
  },
  {
   "cell_type": "markdown",
   "metadata": {},
   "source": [
    "## 2. Kleiner Test\n",
    "Wir verwenden zunächst eine kleine Stichprobe: \n",
    "$$(x_1,y_1), ..., (x_4,y_4) = (1,1), (2,2), (3,5), (4,7).\n",
    "$$\n",
    "Testen Sie Ihre Methode *leastsquares()*, indem Sie sie auf die Daten anwenden und dann Daten und Gerade mit der Funktion *plot()* plotten."
   ]
  },
  {
   "cell_type": "code",
   "execution_count": 94,
   "metadata": {},
   "outputs": [
    {
     "data": {
      "image/png": "[encoded data removed]",
      "text/plain": [
       "<Figure size 432x288 with 1 Axes>"
      ]
     },
     "metadata": {
      "needs_background": "light"
     },
     "output_type": "display_data"
    }
   ],
   "source": [
    "import matplotlib.pyplot as plt\n",
    "\n",
    "def plot(x, y, a, b):\n",
    "    \"\"\" \n",
    "          ! DO NOT TOUCH !\n",
    "\n",
    "          This method plots the 2D point cloud (x,y) in red, \n",
    "          and the fitted line (a,b) in orange.\n",
    "    \"\"\"\n",
    "    plt.plot(x, y, 'o', color='red', markersize=5)\n",
    "    xmin = np.min(x)-1\n",
    "    xmax = np.max(x)+1\n",
    "    ymin = np.min(y)-1\n",
    "    ymax = np.max(y)+1    \n",
    "    plt.axis([xmin,xmax,ymin,ymax]) # set range to plot\n",
    "    xticks = np.arange(xmin, xmax, (xmax-xmin)/1000.)\n",
    "    plt.plot(xticks, a*xticks+b, '-', color='orange')\n",
    "    \n",
    "    plt.grid(True)\n",
    "    plt.show()    \n",
    "    \n",
    "x = np.array([1,2,3,4])\n",
    "y = np.array([1,2,5,7])\n",
    "# FIXME\n",
    "a,b = leastsquares(x,y)\n",
    "plot(x,y,a,b)\n"
   ]
  },
  {
   "cell_type": "markdown",
   "metadata": {},
   "source": [
    "## 3. Autodaten laden\n",
    "Laden Sie die bekannten Autodaten 'cars.csv'. Führen Sie hierzu die nächste Zelle aus *(es ist keine Änderung am Code nötig!)*."
   ]
  },
  {
   "cell_type": "code",
   "execution_count": 95,
   "metadata": {},
   "outputs": [
    {
     "name": "stdout",
     "output_type": "stream",
     "text": [
      "00 : dollar_price\n",
      "01 : registration_year\n",
      "02 : power_ps\n",
      "03 : kilometer\n",
      "04 : postal_code\n",
      "05 : type__bus\n",
      "06 : type__cabrio\n",
      "07 : type__coupe\n",
      "08 : type__kleinwagen\n",
      "09 : type__kombi\n",
      "10 : type__limousine\n",
      "11 : type__suv\n",
      "12 : gearbox__automatik\n",
      "13 : gearbox__manuell\n",
      "14 : fuel__benzin\n",
      "15 : fuel__diesel\n",
      "16 : brand__alfa_romeo\n",
      "17 : brand__audi\n",
      "18 : brand__bmw\n",
      "19 : brand__chevrolet\n",
      "20 : brand__chrysler\n",
      "21 : brand__citroen\n",
      "22 : brand__dacia\n",
      "23 : brand__daewoo\n",
      "24 : brand__daihatsu\n",
      "25 : brand__fiat\n",
      "26 : brand__ford\n",
      "27 : brand__honda\n",
      "28 : brand__hyundai\n",
      "29 : brand__jaguar\n",
      "30 : brand__jeep\n",
      "31 : brand__kia\n",
      "32 : brand__lada\n",
      "33 : brand__lancia\n",
      "34 : brand__land_rover\n",
      "35 : brand__mazda\n",
      "36 : brand__mercedes_benz\n",
      "37 : brand__mini\n",
      "38 : brand__mitsubishi\n",
      "39 : brand__nissan\n",
      "40 : brand__opel\n",
      "41 : brand__peugeot\n",
      "42 : brand__porsche\n",
      "43 : brand__renault\n",
      "44 : brand__rover\n",
      "45 : brand__saab\n",
      "46 : brand__seat\n",
      "47 : brand__skoda\n",
      "48 : brand__smart\n",
      "49 : brand__subaru\n",
      "50 : brand__suzuki\n",
      "51 : brand__toyota\n",
      "52 : brand__trabant\n",
      "53 : brand__volkswagen\n",
      "54 : brand__volvo\n",
      "55 : damage__ja\n",
      "56 : damage__nein\n"
     ]
    }
   ],
   "source": [
    "import pandas\n",
    "\n",
    "cars = pandas.read_csv('cars.csv')\n",
    "\n",
    "# Wir geben die Namen der Spalten/Merkmale aus.\n",
    "columns = cars.columns\n",
    "for i,col in enumerate(columns):\n",
    "    print('%.2d : %s' %(i,col))\n",
    "    \n",
    "# Wir konvertieren die Daten in ein Numpy-Array.\n",
    "data = cars.values.astype('float')\n",
    "\n",
    "# Wir filtern alle Autos die teurer als 50.000 EUR sind.\n",
    "data = data[data[:,0]<50000,:]\n",
    "# Wir filtern alle Autos die billiger als 1.000 EUR sind.\n",
    "data = data[data[:,0]>=1000,:]"
   ]
  },
  {
   "cell_type": "markdown",
   "metadata": {},
   "source": [
    "## 4. Autopreise vorhersagen\n",
    "Verwenden Sie nun Ihr Least-Squares-Modell, um den *Preis* eines Autos vorherzusagen, gegeben den *Kilometerstand*. \n",
    "* Extrahieren Sie hierzu beide Spalten aus der Matrix *data* und rufen Sie leastsquares() auf, um die Parameter $a$ und $b$ zu bestimmen.\n",
    "* Ermitteln Sie dann für die ersten zehn Autos die Vorhersage Ihres Modells und vergleichen Sie sie mit den echten Preisen.\n",
    "\n",
    "Wirken die Ergebnisse (halbwegs) plausibel?"
   ]
  },
  {
   "cell_type": "code",
   "execution_count": 112,
   "metadata": {
    "scrolled": false
   },
   "outputs": [
    {
     "data": {
      "image/png": "[encoded data removed]",
      "text/plain": [
       "<Figure size 432x288 with 1 Axes>"
      ]
     },
     "metadata": {
      "needs_background": "light"
     },
     "output_type": "display_data"
    }
   ],
   "source": [
    "# FIXME\n",
    "\n",
    "yCars=cars['dollar_price'][:10]\n",
    "xCars=cars['kilometer'][:10]\n",
    "aCars, bCars = leastsquares(xCars,yCars)\n",
    "plot(xCars,yCars,aCars,bCars)"
   ]
  },
  {
   "cell_type": "markdown",
   "metadata": {},
   "source": [
    "## 5. Modell bewerten\n",
    "Schreiben Sie eine Funktion *error()*, die ermittelt um *wieviel Prozent* der echte Preis vom vorhergesagten Preis abweicht - gemittelt über alle Autos.\n",
    "Ihre Funktion erhält als Parameter die prognostizierten Preise und die echten Preise. \n",
    "Rufen Sie error() für Ihr Modell auf. Um wieviel Prozent weicht die kilometerstandsbasierte Prognose im Schnitt vom echten Preis ab?"
   ]
  },
  {
   "cell_type": "code",
   "execution_count": 103,
   "metadata": {},
   "outputs": [
    {
     "name": "stdout",
     "output_type": "stream",
     "text": [
      "0.7873058428765982\n"
     ]
    }
   ],
   "source": [
    "def error(ypredicted, yreal):\n",
    "    deltaPercent = abs(yreal-ypredicted)/ypredicted\n",
    "    return deltaPercent\n",
    "\n",
    "totalDelta = 0\n",
    "\n",
    "for index in range(len(xCars)):\n",
    "    totalDelta = totalDelta + error(aCars*index+bCars, yCars[index])\n",
    "\n",
    "totalDelta = totalDelta/len(xCars)\n",
    "print(totalDelta)"
   ]
  },
  {
   "cell_type": "markdown",
   "metadata": {},
   "source": [
    "## 6. Merkmale vergleichen\n",
    "Versuchen Sie nun, den Preis nicht nur anhand des Kilometerstandes vorherzusagen, sondern versuchen Sie es mit *jedem* Merkmal (dem Zulassungsjahr, den PS, dem Kilometerstand, etc.). Für jedes Merkmal:\n",
    "* Bestimmen Sie die Parameter a,b, mit leastsquares()\n",
    "* Ermitteln Sie die vorhergesagten Preise\n",
    "* Geben Sie den prozentualen Fehler aus, mit error().\n",
    "\n",
    "Welches Merkmal ist das beste?"
   ]
  },
  {
   "cell_type": "code",
   "execution_count": 110,
   "metadata": {},
   "outputs": [
    {
     "name": "stdout",
     "output_type": "stream",
     "text": [
      "1.1111111111111112\n",
      "-648.3111111111111\n",
      "1226.8191721132898\n",
      "-2453937.6400871463\n",
      "148.4787215615798\n",
      "-11849.015737984151\n",
      "-0.16178818236141868\n",
      "27433.522345249392\n",
      "-0.1159302653654528\n",
      "13150.034523639682\n",
      "2117.5308641975303\n",
      "5623.046913580247\n",
      "-4487.407407407408\n",
      "6283.540740740741\n",
      "15389.13580246913\n",
      "4295.8864197530875\n",
      "-5637.248677248676\n",
      "7525.9746031746035\n",
      "-3747.901234567901\n",
      "6209.59012345679\n",
      "-6263.61111111111\n",
      "7087.522222222222\n",
      "15017.530864197526\n",
      "4333.046913580248\n",
      "-5042.962962962963\n",
      "6339.096296296297\n",
      "5042.9629629629635\n",
      "1296.1333333333332\n",
      "-9366.222222222223\n",
      "10517.911111111112\n",
      "9366.222222222223\n",
      "1151.6888888888889\n",
      "nan\n",
      "nan\n",
      "15389.13580246913\n",
      "4295.8864197530875\n",
      "-6400.98765432099\n",
      "6474.898765432099\n",
      "nan\n",
      "nan\n",
      "nan\n",
      "nan\n",
      "nan\n",
      "nan\n",
      "nan\n",
      "nan\n",
      "nan\n",
      "nan\n",
      "nan\n",
      "nan\n",
      "nan\n",
      "nan\n",
      "2117.5308641975303\n",
      "5623.046913580247\n",
      "nan\n",
      "nan\n",
      "nan\n",
      "nan\n",
      "nan\n",
      "nan\n",
      "nan\n",
      "nan\n",
      "nan\n",
      "nan\n",
      "nan\n",
      "nan\n",
      "nan\n",
      "nan\n",
      "nan\n",
      "nan\n",
      "-4734.320987654321\n",
      "6308.232098765432\n",
      "nan\n",
      "nan\n",
      "nan\n",
      "nan\n",
      "nan\n",
      "nan\n",
      "15017.530864197526\n",
      "4333.046913580248\n",
      "nan\n",
      "nan\n",
      "-4487.407407407408\n",
      "6283.540740740741\n",
      "nan\n",
      "nan\n",
      "-5042.962962962963\n",
      "6339.096296296297\n",
      "nan\n",
      "nan\n",
      "nan\n",
      "nan\n",
      "nan\n",
      "nan\n",
      "-2759.012345679013\n",
      "6110.701234567901\n",
      "nan\n",
      "nan\n",
      "nan\n",
      "nan\n",
      "nan\n",
      "nan\n",
      "nan\n",
      "nan\n",
      "nan\n",
      "nan\n",
      "-5118.472222222222\n",
      "6858.4944444444445\n",
      "nan\n",
      "nan\n",
      "2245.820105820107\n",
      "5161.053968253968\n",
      "-2245.8201058201057\n",
      "7406.874074074074\n",
      "[-10.068028301143546, -1.0023829266051834, -1.5219639241952228, 0.7873058428765982, 0.7083645869264213, 0.8945232201314589, -0.8795717668981847, 1.1753892811977373, -0.8526847471068653, -1.0419135927199195, -0.7295063174127046, 1.1706322908538762, -0.8238941721706615, 2.0564231160366604, -0.8087374677548071, 2.3015216577915028, nan, 1.1753892811977373, 1.1563563155960486, nan, nan, nan, nan, nan, nan, nan, 0.8945232201314589, nan, nan, nan, nan, nan, nan, nan, nan, -0.8623773225874128, nan, nan, nan, 1.1706322908538762, nan, -0.8795717668981847, nan, -0.8238941721706615, nan, nan, nan, -0.2529907183162866, nan, nan, nan, nan, nan, -0.8586777114814751, nan, 0.9252764686998445, -0.8856422135888579]\n"
     ]
    },
    {
     "name": "stderr",
     "output_type": "stream",
     "text": [
      "<ipython-input-93-c3e40a6ef194>:15: RuntimeWarning: invalid value encountered in double_scalars\n",
      "  a = covXY/varX\n"
     ]
    }
   ],
   "source": [
    "tiefe=10\n",
    "yCars=cars['dollar_price'][:tiefe]\n",
    "#columns = ['kilometer', 'registration_year', 'power_ps']\n",
    "deltas = []\n",
    "\n",
    "for column in cars.columns:\n",
    "    xCars = cars[column][:tiefe]\n",
    "    merkmalDelta = 0\n",
    "    columnA, columnB = leastsquares(xCars,yCars)\n",
    "    print(columnA)\n",
    "    print(columnB)\n",
    "    for index in range(tiefe):\n",
    "        merkmalDelta = merkmalDelta + error(columnA*index+columnB, yCars[index])\n",
    "        \n",
    "    merkmalDelta = merkmalDelta/tiefe\n",
    "    deltas.append(merkmalDelta)\n",
    "    \n",
    "print(deltas)"
   ]
  }
 ],
 "metadata": {
  "kernelspec": {
   "display_name": "Python 3",
   "language": "python",
   "name": "python3"
  },
  "language_info": {
   "codemirror_mode": {
    "name": "ipython",
    "version": 3
   },
   "file_extension": ".py",
   "mimetype": "text/x-python",
   "name": "python",
   "nbconvert_exporter": "python",
   "pygments_lexer": "ipython3",
   "version": "3.8.3"
  }
 },
 "nbformat": 4,
 "nbformat_minor": 1
}
